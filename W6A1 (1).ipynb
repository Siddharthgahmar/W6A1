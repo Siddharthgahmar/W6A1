{
 "cells": [
  {
   "cell_type": "markdown",
   "id": "f3b2b74f-6909-4c11-905b-d0e3bc92b263",
   "metadata": {},
   "source": [
    "Q1. What is a database? Differentiate between SQL and NoSQL databases."
   ]
  },
  {
   "cell_type": "markdown",
   "id": "95d74ce0-8312-4a8f-96e2-7eb990e98e78",
   "metadata": {},
   "source": [
    "Ans-A database is an organized collection of structured data that is stored and managed in a computer system. It is designed to efficiently store, retrieve, and manage large amounts of data. Databases are widely used in various applications and industries to handle data in a structured and reliable manner.\n",
    "\n",
    "SQL and NoSQL are two different types of database management systems (DBMS) that differ in their data models, query languages, and usage scenarios. Here's a comparison between SQL and NoSQL databases:\n",
    "\n",
    "SQL Databases:\n",
    "\n",
    "1-Structure: SQL databases, also known as relational databases, store data in tables with predefined schemas. The tables consist of rows and columns, and the relationships between tables are established using keys.\n",
    "2-Query Language: SQL (Structured Query Language) is used to interact with SQL databases. It provides a standardized way to define, manipulate, and retrieve data using declarative queries.\n",
    "3-Data Integrity: SQL databases enforce ACID (Atomicity, Consistency, Isolation, Durability) properties, which ensure data integrity and transactional consistency. They are suitable for applications that require strong consistency and complex transactions.\n",
    "4--Scalability: SQL databases traditionally scale vertically, meaning they can handle increasing data loads by upgrading hardware (e.g., adding more powerful servers). Scaling horizontally across multiple servers can be complex and requires additional tools and configurations.\n",
    "5-Schema Definition: SQL databases require a predefined schema that defines the structure of the data before it can be stored. Any changes to the schema usually involve altering the existing tables.\n",
    "NoSQL Databases:\n",
    "\n",
    "1-Structure: NoSQL databases, also known as non-relational databases, store data in flexible, schema-less formats such as key-value pairs, documents, column families, or graphs. They are designed to handle unstructured or semi-structured data.\n",
    "2-Query Language: NoSQL databases use different query languages, such as MongoDB's BSON query language or Apache Cassandra's CQL (Cassandra Query Language). These query languages are often less standardized compared to SQL.\n",
    "3-Data Integrity: NoSQL databases prioritize high availability and partition tolerance (AP) over strict data consistency (CAP theorem). They are suitable for distributed systems and scenarios where data consistency can be relaxed, such as real-time analytics, content management, or caching.\n",
    "4-Scalability: NoSQL databases are designed for horizontal scalability, allowing them to scale across multiple servers or clusters effortlessly. They distribute data across nodes, making it easier to handle high traffic and massive data volumes.\n",
    "5-Schema Definition: NoSQL databases are schema-flexible, meaning they can handle varying data structures without a predefined schema. This flexibility enables easier and faster development, as schema changes can be made on the fly."
   ]
  },
  {
   "cell_type": "markdown",
   "id": "9b976b1f-c0e7-45bf-b0a5-6d3f5738cb13",
   "metadata": {},
   "source": [
    "Q2. What is DDL? Explain why CREATE, DROP, ALTER, and TRUNCATE are used with an example."
   ]
  },
  {
   "cell_type": "markdown",
   "id": "2d2eff3d-cb1d-43ad-ac3a-07f527a00c7c",
   "metadata": {},
   "source": [
    "Ans-DDL stands for Data Definition Language. It is a subset of SQL (Structured Query Language) used to define and manage the structure of a database, including creating, altering, and deleting database objects such as tables, views, indexes, and constraints. DDL statements are used to define the schema or structure of the database.\n",
    "\n",
    "Here's an explanation of some commonly used DDL statements with examples:\n",
    "\n",
    "CREATE: The CREATE statement is used to create new database objects such as tables, views, indexes, or constraints.\n",
    "Example: Let's say we want to create a table named \"Employees\" with columns for employee ID, name, and salary.\n"
   ]
  },
  {
   "cell_type": "code",
   "execution_count": 1,
   "id": "f987a257-d3c9-4e51-acde-e9c7fee7c9b3",
   "metadata": {},
   "outputs": [
    {
     "ename": "SyntaxError",
     "evalue": "invalid syntax (2295108333.py, line 1)",
     "output_type": "error",
     "traceback": [
      "\u001b[0;36m  Cell \u001b[0;32mIn[1], line 1\u001b[0;36m\u001b[0m\n\u001b[0;31m    CREATE TABLE Employees (\u001b[0m\n\u001b[0m           ^\u001b[0m\n\u001b[0;31mSyntaxError\u001b[0m\u001b[0;31m:\u001b[0m invalid syntax\n"
     ]
    }
   ],
   "source": [
    "CREATE TABLE Employees (\n",
    "    EmployeeID INT,\n",
    "    Name VARCHAR(50),\n",
    "    Salary DECIMAL(10,2)\n",
    ");\n"
   ]
  },
  {
   "cell_type": "markdown",
   "id": "21451409-998f-429e-bb6c-69cd4915d9f0",
   "metadata": {},
   "source": [
    "DROP: The DROP statement is used to remove or delete existing database objects.\n",
    "Example: Suppose we want to delete the \"Employees\" table from the database."
   ]
  },
  {
   "cell_type": "code",
   "execution_count": null,
   "id": "e3d5c29a-a314-46e1-99b2-c959c410e286",
   "metadata": {},
   "outputs": [],
   "source": [
    "DROP TABLE Employees;\n"
   ]
  },
  {
   "cell_type": "markdown",
   "id": "6bc4564c-8c0a-43cc-9504-504756c8237f",
   "metadata": {},
   "source": [
    "ALTER: The ALTER statement is used to modify the structure of existing database objects. It allows adding, modifying, or deleting columns from a table, altering constraints, or renaming objects.\n",
    "Example: Let's say we want to add a new column \"Department\" to the \"Employees\" table."
   ]
  },
  {
   "cell_type": "code",
   "execution_count": null,
   "id": "0a79ea69-7451-45c7-a7a6-c81d7a5d2c17",
   "metadata": {},
   "outputs": [],
   "source": [
    "ALTER TABLE Employees\n",
    "ADD Department VARCHAR(50);\n"
   ]
  },
  {
   "cell_type": "markdown",
   "id": "a75c423f-f9bd-477c-ba00-8f2c20eb7654",
   "metadata": {},
   "source": [
    "TRUNCATE: The TRUNCATE statement is used to remove all data from a table while keeping the table structure intact. It is faster than the DELETE statement as it does not generate individual rollback logs for each deleted row.\n",
    "Example: Suppose we want to remove all data from the \"Employees\" table.\n"
   ]
  },
  {
   "cell_type": "code",
   "execution_count": null,
   "id": "b3a30df9-52ae-4251-8bbe-29e7cad840d9",
   "metadata": {},
   "outputs": [],
   "source": [
    "TRUNCATE TABLE Employees;\n"
   ]
  },
  {
   "cell_type": "markdown",
   "id": "3f7c9455-b154-49aa-8459-422857c1d2f6",
   "metadata": {},
   "source": [
    "Q3. What is DML? Explain INSERT, UPDATE, and DELETE with an example."
   ]
  },
  {
   "cell_type": "markdown",
   "id": "8b834dfb-5074-461b-b6ba-0c4c19af81b4",
   "metadata": {},
   "source": [
    "Ans-DML stands for Data Manipulation Language. It is a subset of SQL (Structured Query Language) used to manipulate data within a database. DML statements are used to insert, update, and delete data from tables. Unlike DDL (Data Definition Language) which focuses on defining the database structure, DML focuses on manipulating the data stored in the database.\n",
    "\n",
    "Here's an explanation of some commonly used DML statements with examples:\n",
    "\n",
    "INSERT: The INSERT statement is used to insert new data into a table.\n",
    "Example: Let's say we have a table named \"Customers\" with columns for customer ID, name, and email. We want to insert a new customer into the table."
   ]
  },
  {
   "cell_type": "markdown",
   "id": "be3953ef-7c0a-4ce9-8693-597e6b286f12",
   "metadata": {},
   "source": [
    "INSERT INTO Customers (CustomerID, Name, Email)\n",
    "VALUES (1, 'Sidd', 'Sidd@example.com');\n"
   ]
  },
  {
   "cell_type": "markdown",
   "id": "5a9ceb3e-291b-4325-a25a-f81a40fdbcf3",
   "metadata": {},
   "source": [
    "UPDATE: The UPDATE statement is used to modify existing data in a table.\n",
    "Example: Suppose we want to update the email address of a customer with the ID 1.\n",
    "UPDATE Customers\n",
    "SET Email = 'Sidd.singh@example.com'\n",
    "WHERE CustomerID = 1;\n",
    "DELETE: The DELETE statement is used to remove data from a table.\n",
    "Example: Let's say we want to delete a customer with the ID 1 from the \"Customers\" table.\n",
    "\n",
    "DELETE FROM Customers\n",
    "WHERE CustomerID = 1;\n"
   ]
  },
  {
   "cell_type": "markdown",
   "id": "d6b0c08c-b4e8-4c4b-9a81-8041fdfc722c",
   "metadata": {},
   "source": [
    "Q4. What is DQL? Explain SELECT with an example."
   ]
  },
  {
   "cell_type": "markdown",
   "id": "0d42dd13-a495-4910-b703-09061963efd9",
   "metadata": {},
   "source": [
    "Ans-DQL stands for Data Query Language. It is a subset of SQL (Structured Query Language) used to retrieve and query data from a database. DQL statements, primarily the SELECT statement, are used to retrieve specific data from one or more tables based on specified criteria.\n",
    "\n",
    "Here's an explanation of the SELECT statement with an example:\n",
    "\n",
    "The SELECT statement is used to retrieve data from one or more tables in a database. It allows you to specify the columns you want to retrieve, apply conditions to filter the data, sort the results, and perform various other operations.\n",
    "\n",
    "Example: Suppose we have a table named \"Employees\" with columns for employee ID, name, department, and salary. We want to retrieve the names and salaries of employees from the \"IT\" department.\n",
    "SELECT Name, Salary\n",
    "FROM Employees\n",
    "WHERE Department = 'IT';\n"
   ]
  },
  {
   "cell_type": "markdown",
   "id": "6652016b-7f27-43f3-af03-939ab37fe05a",
   "metadata": {},
   "source": [
    "Q5. Explain Primary Key and Foreign Key."
   ]
  },
  {
   "cell_type": "markdown",
   "id": "d15b1f54-6c59-4418-9f2f-1d4ede416679",
   "metadata": {},
   "source": [
    "Ans-Primary Key:\n",
    "A primary key is a column or a combination of columns in a table that uniquely identifies each row in the table. It serves as a unique identifier for a particular record and ensures the integrity and uniqueness of data within the table. The primary key enforces entity integrity, meaning that it prevents duplicate or null values in the key column(s). Primary keys are essential for data integrity and are often used as references in other tables.\n",
    "Foreign Key:\n",
    "A foreign key is a column or a combination of columns in a table that establishes a link or a relationship between the data in two tables. It defines a constraint that ensures referential integrity between related tables. The foreign key in one table refers to the primary key of another table, creating a relationship between them."
   ]
  },
  {
   "cell_type": "markdown",
   "id": "3fdf309e-216c-4c7b-9c7a-0839719b5842",
   "metadata": {},
   "source": [
    "Q6. Write a python code to connect MySQL to python. Explain the cursor() and execute() method."
   ]
  },
  {
   "cell_type": "markdown",
   "id": "114393a9-3596-4d08-83bd-ccf40e493472",
   "metadata": {
    "tags": []
   },
   "source": [
    "import mysql.connector\n",
    "\n",
    "# Connect to the database\n",
    "cnx = mysql.connector.connect(\n",
    "    host=\"localhost\",\n",
    "    user=\"your_username\",\n",
    "    password=\"your_password\",\n",
    "    database=\"your_database\"\n",
    ")\n",
    "\n",
    "# Create a cursor object\n",
    "cursor = cnx.cursor()\n",
    "\n",
    "# Execute a query\n",
    "query = \"SELECT * FROM employees\"\n",
    "cursor.execute(query)\n",
    "\n",
    "# Fetch and print the results\n",
    "for row in cursor:\n",
    "    print(row)\n",
    "\n",
    "# Close the cursor and connection\n",
    "cursor.close()\n",
    "cnx.close()\n",
    "\n",
    "\n",
    "1-cursor(): The cursor() method creates a cursor object, which is used to execute SQL statements and fetch the query results. It acts as a handle for interacting with the database.\n",
    "\n",
    "2-execute(): The execute() method is used to execute an SQL query or command. It takes the SQL statement as a parameter and performs the specified operation on the database. It can execute queries like SELECT, INSERT, UPDATE, DELETE, etc."
   ]
  },
  {
   "cell_type": "markdown",
   "id": "0ca30220-6656-4c10-a61a-44fe50fab1e2",
   "metadata": {},
   "source": [
    "Q7. Give the order of execution of SQL clauses in an SQL query."
   ]
  },
  {
   "cell_type": "markdown",
   "id": "10d771e7-962f-4746-a171-2aa4fe1292dc",
   "metadata": {},
   "source": [
    "Ans-In an SQL query, the clauses are generally executed in the following order:\n",
    "\n",
    "FROM: The FROM clause specifies the tables from which the data will be retrieved. It identifies the source tables for the query.\n",
    "\n",
    "WHERE: The WHERE clause is used to apply conditions and filter the data based on specified criteria. It limits the result set to rows that satisfy the given conditions.\n",
    "\n",
    "GROUP BY: The GROUP BY clause is used to group the result set based on one or more columns. It is often used in conjunction with aggregate functions like SUM, COUNT, AVG, etc., to perform calculations on grouped data.\n",
    "\n",
    "HAVING: The HAVING clause is used to apply conditions on groups created by the GROUP BY clause. It filters the grouped data based on specified conditions.\n",
    "\n",
    "SELECT: The SELECT clause is used to specify the columns that will be included in the result set. It retrieves the desired columns from the tables.\n",
    "\n",
    "ORDER BY: The ORDER BY clause is used to sort the result set based on one or more columns. It can sort the data in ascending or descending order.\n",
    "\n",
    "LIMIT/OFFSET: The LIMIT/OFFSET clause is used to limit the number of rows returned by the query. It specifies the maximum number of rows to be retrieved (LIMIT) and the number of rows to skip from the beginning of the result set (OFFSET)."
   ]
  },
  {
   "cell_type": "code",
   "execution_count": null,
   "id": "038fa9ea-eeb1-4e2c-965e-ba4b23e22519",
   "metadata": {},
   "outputs": [],
   "source": []
  }
 ],
 "metadata": {
  "kernelspec": {
   "display_name": "Python 3 (ipykernel)",
   "language": "python",
   "name": "python3"
  },
  "language_info": {
   "codemirror_mode": {
    "name": "ipython",
    "version": 3
   },
   "file_extension": ".py",
   "mimetype": "text/x-python",
   "name": "python",
   "nbconvert_exporter": "python",
   "pygments_lexer": "ipython3",
   "version": "3.10.8"
  }
 },
 "nbformat": 4,
 "nbformat_minor": 5
}
