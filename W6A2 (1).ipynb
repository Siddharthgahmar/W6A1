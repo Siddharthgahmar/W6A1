{
 "cells": [
  {
   "cell_type": "markdown",
   "id": "3f00e1c7-3d7b-4063-a2cb-070da1023cc6",
   "metadata": {},
   "source": [
    "Q1. What is MongoDB? Explain non-relational databases in short. In which scenarios it is preferred to use\n",
    "MongoDB over SQL databases?"
   ]
  },
  {
   "cell_type": "markdown",
   "id": "a547d120-4440-43a1-98c8-53b84940a27a",
   "metadata": {},
   "source": [
    "Ans-MongoDB is a popular open-source NoSQL database that provides high-performance, scalable, and flexible data storage and retrieval. It is designed to handle unstructured or semi-structured data, making it suitable for various modern application scenarios.\n",
    "\n",
    "Non-relational databases, also known as NoSQL databases, are database management systems that differ from traditional relational databases (SQL databases) in their data models, query languages, and usage scenarios. NoSQL databases are designed to handle large volumes of data with high velocity and variety, providing horizontal scalability and flexibility in data structures.\n",
    "\n",
    "In NoSQL databases like MongoDB, data is typically stored in flexible formats such as key-value pairs, documents, column families, or graphs. They offer the following advantages:\n",
    "\n",
    "Schema flexibility: NoSQL databases allow dynamic and flexible schema structures, enabling easy and rapid development. They don't require a predefined schema, so data can be added or modified without altering the existing schema.\n",
    "\n",
    "Horizontal scalability: NoSQL databases are designed to scale horizontally across multiple servers or clusters. They distribute data across nodes, making it easier to handle high traffic and large data volumes by adding more servers.\n",
    "\n",
    "High performance: NoSQL databases optimize for high-speed data access by leveraging distributed architectures and minimizing complex join operations. They are suitable for scenarios that require quick and efficient data retrieval.\n",
    "\n",
    "Handling unstructured data: NoSQL databases excel at managing unstructured or semi-structured data, such as JSON documents, logs, social media data, sensor data, etc. They provide flexibility to store and query diverse data types.\n",
    "\n",
    "MongoDB is preferred over SQL databases (relational databases) in the following scenarios:\n",
    "\n",
    "Rapidly evolving requirements: MongoDB's schema flexibility allows easy adaptation to changing requirements without the need for expensive schema migrations. It is suitable for agile development environments where requirements evolve rapidly.\n",
    "\n",
    "Big Data and high scalability: MongoDB's horizontal scalability and ability to distribute data across multiple nodes make it suitable for handling large-scale datasets and high traffic loads. It can handle big data applications and scale seamlessly as data grows.\n",
    "\n",
    "Real-time analytics and high-velocity data: MongoDB's ability to handle high-velocity data ingestion and real-time analytics makes it suitable for applications that require capturing and analyzing data in near real-time, such as IoT platforms, sensor data analysis, and event-driven architectures.\n",
    "\n",
    "Document-oriented data: MongoDB's document-based data model allows efficient storage and retrieval of complex and hierarchical data structures. It is well-suited for use cases involving nested and rich data, such as content management systems, product catalogs, and user profiles."
   ]
  },
  {
   "cell_type": "markdown",
   "id": "f0a9c0f4-0e8d-4bb0-933c-e0952e657353",
   "metadata": {},
   "source": [
    "Q2. State and Explain the features of MongoDB."
   ]
  },
  {
   "cell_type": "markdown",
   "id": "97003d24-9864-4d4d-beeb-0bf455fdee9f",
   "metadata": {},
   "source": [
    "Ans-MongoDB, being a popular NoSQL database, offers several key features that make it a preferred choice for various applications. Here are the main features of MongoDB:\n",
    "\n",
    "Document-oriented: MongoDB is a document-oriented database, which means it stores data in flexible, JSON-like documents known as BSON (Binary JSON). Each document can have a different structure, allowing schema flexibility and easy handling of semi-structured or unstructured data.\n",
    "\n",
    "Scalability and High Performance: MongoDB is designed to scale horizontally by distributing data across multiple servers or clusters. It supports automatic sharding, allowing seamless scalability as data grows. Additionally, it provides high-performance read and write operations by utilizing in-memory computing and efficient indexing mechanisms.\n",
    "\n",
    "Replication and High Availability: MongoDB offers built-in replication features, allowing the creation of replicas of the database across multiple servers. Replication ensures data redundancy, fault tolerance, and high availability. It provides automatic failover in case of primary node failure, ensuring uninterrupted service.\n",
    "\n",
    "Flexible Data Model: MongoDB's flexible data model enables easy handling of evolving data structures. It supports nested documents and arrays, providing rich data modeling capabilities. The data model allows embedding related data within a document or referencing data across documents, facilitating efficient querying and data retrieval.\n",
    "\n",
    "Querying and Indexing: MongoDB provides a powerful query language with support for complex queries, including filtering, sorting, aggregation, and geospatial queries. It supports indexing on various fields, allowing fast query execution. MongoDB also provides full-text search capabilities and supports indexing on arrays.\n",
    "\n",
    "Ad hoc Queries: MongoDB allows ad hoc queries, which means you can query the database without the need to predefine a schema or structure. This flexibility enables developers to quickly prototype and iterate on data models, making it suitable for agile development environments.\n",
    "\n",
    "Geospatial Capabilities: MongoDB includes geospatial indexing and querying features, allowing efficient storage and retrieval of geospatial data. It supports complex geospatial queries, such as finding points within a specific area or calculating distances between coordinates.\n",
    "\n",
    "Aggregation Framework: MongoDB offers a rich aggregation framework that allows performing complex data processing and analysis operations. It supports aggregation pipelines, enabling multi-stage data transformations, grouping, filtering, and aggregating data within the database.\n",
    "\n",
    "Multi-document ACID Transactions: MongoDB provides multi-document ACID (Atomicity, Consistency, Isolation, Durability) transactions, allowing multiple operations to be performed atomically across multiple documents. This ensures data consistency and integrity, even in high-concurrency environments."
   ]
  },
  {
   "cell_type": "markdown",
   "id": "e3902772-89c9-49fa-b2c5-81438b0cf289",
   "metadata": {},
   "source": [
    "Q3. Write a code to connect MongoDB to Python. Also, create a database and a collection in MongoDB."
   ]
  },
  {
   "cell_type": "markdown",
   "id": "98ef3610-f091-468d-93d7-d5f84ea917c5",
   "metadata": {},
   "source": [
    "import pymongo\n",
    "\n",
    "# Connect to MongoDB\n",
    "client = pymongo.MongoClient(\"mongodb://localhost:27017/\")\n",
    "\n",
    "# Create a database\n",
    "mydb = client[\"mydatabase\"]\n",
    "\n",
    "# Create a collection\n",
    "mycol = mydb[\"customers\"]\n",
    "Explanation of the code:\n",
    "\n",
    "The pymongo library is imported to use its functionality for connecting and interacting with MongoDB.\n",
    "\n",
    "The pymongo.MongoClient() function is used to establish a connection to the MongoDB server. In this example, it connects to a MongoDB server running on the local machine on the default port 27017.\n",
    "\n",
    "The client object represents the connection to the MongoDB server.\n",
    "\n",
    "The mydb object is created using client[\"mydatabase\"]. It represents the database named \"mydatabase\". If the database doesn't exist, MongoDB will create it automatically when data is inserted.\n",
    "\n",
    "The mycol object is created using mydb[\"customers\"]. It represents a collection named \"customers\" within the \"mydatabase\". A collection in MongoDB is similar to a table in a relational database.\n",
    "\n"
   ]
  },
  {
   "cell_type": "markdown",
   "id": "e888063c-e053-4c94-9269-1c437d1716a2",
   "metadata": {},
   "source": [
    "Q4. Using the database and the collection created in question number 3, write a code to insert one record,\n",
    "and insert many records. Use the find() and find_one() methods to print the inserted record."
   ]
  },
  {
   "cell_type": "raw",
   "id": "52c3c39a-6346-4af8-89b4-4bc87fea5c6f",
   "metadata": {},
   "source": [
    "import pymongo\n",
    "\n",
    "# Connect to MongoDB\n",
    "client = pymongo.MongoClient(\"mongodb://localhost:27017/\")\n",
    "\n",
    "# Access the database and collection\n",
    "mydb = client[\"mydatabase\"]\n",
    "mycol = mydb[\"customers\"]\n",
    "\n",
    "# Insert one record\n",
    "record_one = {\n",
    "    \"name\": \"John Doe\",\n",
    "    \"email\": \"john@example.com\",\n",
    "    \"age\": 30\n",
    "}\n",
    "\n",
    "mycol.insert_one(record_one)\n",
    "print(\"Inserted record:\")\n",
    "print(record_one)\n",
    "\n",
    "# Insert many records\n",
    "records_many = [\n",
    "    {\n",
    "        \"name\": \"Alice Smith\",\n",
    "        \"email\": \"alice@example.com\",\n",
    "        \"age\": 25\n",
    "    },\n",
    "    {\n",
    "        \"name\": \"Bob Johnson\",\n",
    "        \"email\": \"bob@example.com\",\n",
    "        \"age\": 35\n",
    "    },\n",
    "    {\n",
    "        \"name\": \"Eve Williams\",\n",
    "        \"email\": \"eve@example.com\",\n",
    "        \"age\": 28\n",
    "    }\n",
    "]\n",
    "\n",
    "mycol.insert_many(records_many)\n",
    "print(\"\\nInserted records:\")\n",
    "for record in records_many:\n",
    "    print(record)\n",
    "\n",
    "# Print the inserted records using find() and find_one()\n",
    "print(\"\\nAll records:\")\n",
    "for record in mycol.find():\n",
    "    print(record)\n",
    "\n",
    "print(\"\\nOne record:\")\n",
    "one_record = mycol.find_one()\n",
    "print(one_record)\n",
    "\n",
    "\n",
    "Explanation of the code:\n",
    "\n",
    "The code assumes that you have successfully connected to MongoDB and have the \"mydatabase\" and \"customers\" collection available (as created in Question 3).\n",
    "\n",
    "The insert_one() method is used to insert a single record (record_one) into the collection.\n",
    "\n",
    "The insert_many() method is used to insert multiple records (records_many) into the collection.\n",
    "\n",
    "After inserting the records, the inserted records are printed using the find() method, which retrieves all the records in the collection, and the find_one() method, which retrieves a single record.\n",
    "\n",
    "The code loops through the records retrieved using find() and prints each record.\n",
    "\n",
    "The code also retrieves and prints a single record using find_one().\n",
    "\n",
    "\n",
    "\n",
    "\n"
   ]
  },
  {
   "cell_type": "markdown",
   "id": "29287b7c-c852-4ba1-97d3-7802355e2eec",
   "metadata": {},
   "source": [
    "Q5. Explain how you can use the find() method to query the MongoDB database. Write a simple code to\n",
    "demonstrate this."
   ]
  },
  {
   "cell_type": "raw",
   "id": "f51d129d-7e28-4ba9-bdec-84564c47b6ae",
   "metadata": {},
   "source": [
    "import pymongo\n",
    "\n",
    "# Connect to MongoDB\n",
    "client = pymongo.MongoClient(\"mongodb://localhost:27017/\")\n",
    "\n",
    "# Access the database and collection\n",
    "mydb = client[\"mydatabase\"]\n",
    "mycol = mydb[\"customers\"]\n",
    "\n",
    "# Query the database using find()\n",
    "query = {\"age\": {\"$gte\": 30}}  # Find documents where age is greater than or equal to 30\n",
    "results = mycol.find(query)\n",
    "\n",
    "# Print the query results\n",
    "for document in results:\n",
    "    print(document)\n",
    "    \n",
    "    \n",
    "Explanation of the code:\n",
    "\n",
    "The code assumes that you have successfully connected to MongoDB and have the \"mydatabase\" and \"customers\" collection available.\n",
    "\n",
    "The find() method is invoked on the collection (mycol) to retrieve documents that match the specified query.\n",
    "\n",
    "In this example, the query is defined using a filter that matches documents where the \"age\" field is greater than or equal to 30. The query filter is represented by the query dictionary.\n",
    "\n",
    "The find() method returns a cursor object, which can be iterated to access the matching documents.\n",
    "\n",
    "The code loops through the cursor using a for loop and prints each document.\n"
   ]
  },
  {
   "cell_type": "raw",
   "id": "65575384-33b1-4066-9e6d-bc8e31ac9653",
   "metadata": {},
   "source": [
    "Q6. Explain the sort() method. Give an example to demonstrate sorting in MongoDB."
   ]
  },
  {
   "cell_type": "raw",
   "id": "56ec8cde-87de-4357-abbf-4685a0aa7f69",
   "metadata": {},
   "source": [
    "In MongoDB, the sort() method is used to sort the documents in a collection based on one or more fields. It allows you to specify the sorting order, whether ascending or descending, for the specified fields.\n",
    "\n",
    "The syntax for the sort() method is as follows:\n",
    "\n",
    "sort(field, direction)\n"
   ]
  },
  {
   "cell_type": "raw",
   "id": "bd59f3fd-b500-4f54-864d-bdbf13a981b7",
   "metadata": {},
   "source": [
    "Q7. Explain why delete_one(), delete_many(), and drop() is used."
   ]
  },
  {
   "cell_type": "markdown",
   "id": "e3dae25e-ffd5-4890-9662-8b3d0abb138c",
   "metadata": {},
   "source": [
    "In MongoDB, the delete_one(), delete_many(), and drop() methods are used to remove data from a collection or to drop an entire collection. Here's an explanation of when and why these methods are used:\n",
    "\n",
    "delete_one() method:\n",
    "The delete_one() method is used to delete a single document that matches a specified filter or criteria. It removes the first document that satisfies the given condition\n",
    "\n",
    "delete_one(filter)\n",
    "\n",
    "delete_many() method:\n",
    "The delete_many() method is used to delete multiple documents that match a specified filter or criteria. It removes all the documents that satisfy the given condition.\n",
    "\n",
    "delete_many(filter)\n",
    "\n",
    "drop() method:\n",
    "The drop() method is used to completely remove a collection from the MongoDB database. This operation permanently deletes the collection and all its associated documents.\n",
    "\n",
    "mycol.drop()\n"
   ]
  },
  {
   "cell_type": "code",
   "execution_count": null,
   "id": "4dbc8c83-759e-4669-83a0-554fc6109eeb",
   "metadata": {},
   "outputs": [],
   "source": []
  }
 ],
 "metadata": {
  "kernelspec": {
   "display_name": "Python 3 (ipykernel)",
   "language": "python",
   "name": "python3"
  },
  "language_info": {
   "codemirror_mode": {
    "name": "ipython",
    "version": 3
   },
   "file_extension": ".py",
   "mimetype": "text/x-python",
   "name": "python",
   "nbconvert_exporter": "python",
   "pygments_lexer": "ipython3",
   "version": "3.10.8"
  }
 },
 "nbformat": 4,
 "nbformat_minor": 5
}
